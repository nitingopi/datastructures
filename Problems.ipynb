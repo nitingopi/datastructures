{
 "cells": [
  {
   "cell_type": "code",
   "execution_count": 1,
   "id": "156bea57-33b4-4301-b8ae-c412147ab19f",
   "metadata": {},
   "outputs": [],
   "source": [
    "string = \"this is a test string\"\n",
    "pattern = \"tist\"\n"
   ]
  },
  {
   "cell_type": "code",
   "execution_count": 2,
   "id": "23e61dfb-4337-490d-9249-9e3013a49250",
   "metadata": {},
   "outputs": [
    {
     "data": {
      "text/plain": [
       "{'i', 's', 't'}"
      ]
     },
     "execution_count": 2,
     "metadata": {},
     "output_type": "execute_result"
    }
   ],
   "source": [
    "patern_unique = {i for i in pattern}\n",
    "patern_unique"
   ]
  },
  {
   "cell_type": "code",
   "execution_count": null,
   "id": "ced39e36-ccc6-4ea0-9799-83c93e90c2cb",
   "metadata": {},
   "outputs": [],
   "source": [
    "window_dict = {}\n",
    "for i in range(len(string)):\n",
    "    "
   ]
  }
 ],
 "metadata": {
  "kernelspec": {
   "display_name": "Python 3 (ipykernel)",
   "language": "python",
   "name": "python3"
  },
  "language_info": {
   "codemirror_mode": {
    "name": "ipython",
    "version": 3
   },
   "file_extension": ".py",
   "mimetype": "text/x-python",
   "name": "python",
   "nbconvert_exporter": "python",
   "pygments_lexer": "ipython3",
   "version": "3.10.4"
  }
 },
 "nbformat": 4,
 "nbformat_minor": 5
}
